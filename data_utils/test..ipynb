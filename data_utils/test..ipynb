{
 "cells": [
  {
   "cell_type": "markdown",
   "metadata": {},
   "source": [
    "### Check for consistency of the tran and desc"
   ]
  },
  {
   "cell_type": "markdown",
   "metadata": {},
   "source": [
    "tran text == dec text"
   ]
  },
  {
   "cell_type": "code",
   "execution_count": 22,
   "metadata": {},
   "outputs": [
    {
     "name": "stdout",
     "output_type": "stream",
     "text": [
      "len desc_lines_lst: 220\n",
      "len tran_lines_lst: 220\n",
      "len desc_lines_set: 220\n",
      "len tran_lines_set: 220\n",
      "tran_lines_lst == desc_lines_lst: True\n"
     ]
    }
   ],
   "source": [
    "with open(\"/home/alexandrtchk/VSCode/multimodal/data-1000-items/text/tran_id.tok.txt\", 'r') as desc:\n",
    "    desc_lines = desc.readlines()\n",
    "\n",
    "with open(\"/home/alexandrtchk/VSCode/multimodal/data-1000-items/text/desc_id.tok.txt\", 'r') as tran:\n",
    "    tran_lines = tran.readlines()\n",
    "# Here, outside of the 'with' block, desc is already closed. But you can still use 'lines':\n",
    "desc_lines_lst = [line.strip() for line in desc_lines]\n",
    "tran_lines_lst = [line.strip() for line in tran_lines]\n",
    "desc_lines_set = set(desc_lines_lst)\n",
    "tran_lines_set = set(tran_lines_lst)\n",
    "\n",
    "print(f'len desc_lines_lst: {len(desc_lines_lst)}')\n",
    "print(f'len tran_lines_lst: {len(tran_lines_lst)}')\n",
    "print(f'len desc_lines_set: {len(desc_lines_set)}')\n",
    "print(f'len tran_lines_set: {len(tran_lines_set)}')\n",
    "\n",
    "print(f'tran_lines_lst == desc_lines_lst: {tran_lines_lst == desc_lines_lst}')"
   ]
  },
  {
   "cell_type": "markdown",
   "metadata": {},
   "source": [
    "audio_npy == video_npy"
   ]
  },
  {
   "cell_type": "code",
   "execution_count": 17,
   "metadata": {},
   "outputs": [
    {
     "name": "stdout",
     "output_type": "stream",
     "text": [
      "len audio_npy_files: 13445\n",
      "len video_npy_files: 13445\n",
      "audio_npy_files == video_npy_files: True\n"
     ]
    }
   ],
   "source": [
    "audio_npy_files = os.listdir('/home/alexandrtchk/VSCode/multimodal/mast-300/audio_300_npy')\n",
    "video_npy_files = os.listdir('/home/alexandrtchk/VSCode/multimodal/mast-300/video_300_npy')\n",
    "\n",
    "print(f'len audio_npy_files: {len(audio_npy_files)}')\n",
    "print(f'len video_npy_files: {len(video_npy_files)}')\n",
    "\n",
    "print(f'audio_npy_files == video_npy_files: {audio_npy_files == video_npy_files}')"
   ]
  },
  {
   "cell_type": "code",
   "execution_count": 23,
   "metadata": {},
   "outputs": [
    {
     "name": "stdout",
     "output_type": "stream",
     "text": [
      "source_file /home/alexandrtchk/VSCode/multimodal/mast-300/text/all/desc.tok.txt\n",
      "target_path /home/alexandrtchk/VSCode/multimodal/mast-300/text/all_separated/desc\n",
      "source_file /home/alexandrtchk/VSCode/multimodal/mast-300/text/all/tran.tok.txt\n",
      "target_path /home/alexandrtchk/VSCode/multimodal/mast-300/text/all_separated/tran\n"
     ]
    }
   ],
   "source": [
    "source_file_lst = ['/home/alexandrtchk/VSCode/multimodal/mast-300/text/all/desc.tok.txt', \n",
    "                   '/home/alexandrtchk/VSCode/multimodal/mast-300/text/all/tran.tok.txt']\n",
    "\n",
    "target_path_lst = ['/home/alexandrtchk/VSCode/multimodal/mast-300/text/all_separated/desc',\n",
    "                   '/home/alexandrtchk/VSCode/multimodal/mast-300/text/all_separated/tran']\n",
    "\n",
    "for source_file, target_path, in zip(source_file_lst, target_path_lst):\n",
    "    print(f\"source_file {source_file}\")\n",
    "    print(f\"target_path {target_path}\")"
   ]
  },
  {
   "cell_type": "code",
   "execution_count": 31,
   "metadata": {},
   "outputs": [
    {
     "data": {
      "text/plain": [
       "['audio_dev.txt',\n",
       " 'audio_test.txt',\n",
       " 'audio_train.txt',\n",
       " 'dataset_files_paths.txt',\n",
       " 'desc_dev.txt',\n",
       " 'desc_test.txt',\n",
       " 'desc_train.txt',\n",
       " 'tran_dev.txt',\n",
       " 'tran_test.txt',\n",
       " 'tran_train.txt',\n",
       " 'video_dev.txt',\n",
       " 'video_test.txt',\n",
       " 'video_train.txt']"
      ]
     },
     "execution_count": 31,
     "metadata": {},
     "output_type": "execute_result"
    }
   ],
   "source": [
    "import os\n",
    "sorted(os.listdir('/home/alexandrtchk/VSCode/multimodal/data-1000-items/splitted/dataset_files_paths'))"
   ]
  },
  {
   "cell_type": "code",
   "execution_count": null,
   "metadata": {},
   "outputs": [],
   "source": []
  }
 ],
 "metadata": {
  "kernelspec": {
   "display_name": "venv",
   "language": "python",
   "name": "python3"
  },
  "language_info": {
   "codemirror_mode": {
    "name": "ipython",
    "version": 3
   },
   "file_extension": ".py",
   "mimetype": "text/x-python",
   "name": "python",
   "nbconvert_exporter": "python",
   "pygments_lexer": "ipython3",
   "version": "3.6.9"
  },
  "orig_nbformat": 4
 },
 "nbformat": 4,
 "nbformat_minor": 2
}
