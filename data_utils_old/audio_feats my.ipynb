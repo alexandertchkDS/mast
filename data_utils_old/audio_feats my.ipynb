{
 "cells": [
  {
   "cell_type": "code",
   "execution_count": 1,
   "metadata": {},
   "outputs": [
    {
     "name": "stdout",
     "output_type": "stream",
     "text": [
      "--7E2sU6zP4_10 ARK_PATH/raw_fbank_pitch_all_181506.1.ark:15\n",
      "--7E2sU6zP4_11 ARK_PATH/raw_fbank_pitch_all_181506.1.ark:49458\n",
      "--7E2sU6zP4_12 ARK_PATH/raw_fbank_pitch_all_181506.1.ark:125776\n",
      "--7E2sU6zP4_13 ARK_PATH/raw_fbank_pitch_all_181506.1.ark:172983\n",
      "--7E2sU6zP4_5 ARK_PATH/raw_fbank_pitch_all_181506.1.ark:192669\n",
      "--7E2sU6zP4_6 ARK_PATH/raw_fbank_pitch_all_181506.1.ark:221557\n",
      "--7E2sU6zP4_7 ARK_PATH/raw_fbank_pitch_all_181506.1.ark:275815\n",
      "--7E2sU6zP4_8 ARK_PATH/raw_fbank_pitch_all_181506.1.ark:314937\n",
      "--7E2sU6zP4_9 ARK_PATH/raw_fbank_pitch_all_181506.1.ark:364164\n",
      "--8pSDeC-fg_0 ARK_PATH/raw_fbank_pitch_all_181506.1.ark:396664\n"
     ]
    }
   ],
   "source": [
    "!head /home/alexandertchk/VSCode/multimodal/how2-dataset/audio_300/fbank_pitch_181506/raw_fbank_pitch_all_181506.1.scp"
   ]
  },
  {
   "cell_type": "code",
   "execution_count": 3,
   "metadata": {},
   "outputs": [],
   "source": [
    "vid_ids = []\n",
    "\n",
    "with open('/home/alexandertchk/VSCode/multimodal/how2-dataset/audio_300/fbank_pitch_181506/cmvn_all_181506.scp') as f:\n",
    "    for line in f:\n",
    "        vid, path = line.split() \n",
    "        vid_ids.append(vid)"
   ]
  },
  {
   "cell_type": "code",
   "execution_count": 4,
   "metadata": {},
   "outputs": [
    {
     "data": {
      "text/plain": [
       "13668"
      ]
     },
     "execution_count": 4,
     "metadata": {},
     "output_type": "execute_result"
    }
   ],
   "source": [
    "len(vid_ids)"
   ]
  },
  {
   "cell_type": "code",
   "execution_count": 5,
   "metadata": {},
   "outputs": [],
   "source": [
    "vid_ids = set(vid_ids)"
   ]
  },
  {
   "cell_type": "code",
   "execution_count": 9,
   "metadata": {},
   "outputs": [
    {
     "name": "stdout",
     "output_type": "stream",
     "text": [
      "Processing file at idx 1\n",
      "Processing file at idx 2\n",
      "Processing file at idx 3\n",
      "Processing file at idx 4\n",
      "Processing file at idx 5\n",
      "Processing file at idx 6\n",
      "Processing file at idx 7\n",
      "Processing file at idx 8\n",
      "Processing file at idx 9\n",
      "Processing file at idx 10\n"
     ]
    }
   ],
   "source": [
    "import sys\n",
    "import os\n",
    "\n",
    "\"\"\"Replaces paths in Kaldi .scp files with a given placeholder.\n",
    "Reads from STDIN and writes to STDOUT.\"\"\"\n",
    "\n",
    "try:\n",
    "    pattern = '/home/alexandertchk/VSCode/multimodal/how2-dataset/audio_300/fbank_pitch_181506/'\n",
    "except IndexError as ie:\n",
    "    print('Usage: {} <placeholder string>'.format(sys.argv[0]))\n",
    "    sys.exit(1)\n",
    "\n",
    "for idx in range(1, 11):\n",
    "    print(\"Processing file at idx\", idx)\n",
    "    with open('/home/alexandertchk/VSCode/multimodal/how2-dataset/audio_300/fbank_pitch_181506/raw_fbank_pitch_all_181506.{}.scp'.format(idx)) as f, open('/home/alexandertchk/VSCode/multimodal/how2-dataset/audio_300/fbank_pitch_181506/raw_fbank_pitch_all_181506.{}_processed.scp'.format(idx), 'w') as fw:\n",
    "        for line in f:\n",
    "            line = line.strip()\n",
    "            utt, path = line.split()\n",
    "            ark_file, offset = path.split(':')\n",
    "            ark_file = ark_file.split('/')[-1]\n",
    "            fw.write('{} {}/{}:{}\\n'.format(utt, pattern, ark_file, offset))"
   ]
  },
  {
   "cell_type": "code",
   "execution_count": 13,
   "metadata": {},
   "outputs": [
    {
     "name": "stdout",
     "output_type": "stream",
     "text": [
      "Evaluating file 1\n"
     ]
    }
   ],
   "source": [
    "audio_feats = {}\n",
    "\n",
    "from kaldiio import ReadHelper\n",
    "for fidx in range(1, 2):\n",
    "    print(\"Evaluating file\", fidx)\n",
    "    with ReadHelper('scp:/home/alexandertchk/VSCode/multimodal/how2-dataset/audio_300/fbank_pitch_181506/raw_fbank_pitch_all_181506.{}_processed.scp'.format(fidx)) as reader:\n",
    "        for idx, (key, numpy_array) in enumerate(reader):\n",
    "            audio_feats[key] = numpy_array"
   ]
  },
  {
   "cell_type": "code",
   "execution_count": 14,
   "metadata": {},
   "outputs": [
    {
     "name": "stdout",
     "output_type": "stream",
     "text": [
      "19161\n"
     ]
    }
   ],
   "source": [
    "print(len(audio_feats))"
   ]
  },
  {
   "cell_type": "code",
   "execution_count": null,
   "metadata": {},
   "outputs": [],
   "source": []
  },
  {
   "cell_type": "code",
   "execution_count": 15,
   "metadata": {},
   "outputs": [],
   "source": [
    "from collections import defaultdict\n",
    "\n",
    "vid_utts = defaultdict(list)\n",
    "\n",
    "for key in audio_feats.keys():\n",
    "    try:\n",
    "        curr_utt_ids = []\n",
    "        # To manage utts of format vid_1_2_3\n",
    "        while True:\n",
    "            split_idx = key.rfind('_')\n",
    "            vid_id, utt_id = key[:split_idx], key[split_idx+1:]\n",
    "            curr_utt_ids.append(utt_id)\n",
    "            if vid_id in vid_ids:\n",
    "                for utt_id in curr_utt_ids:\n",
    "                    vid_utts[vid_id].append(int(utt_id))\n",
    "                break\n",
    "            key = vid_id\n",
    "    except:\n",
    "        print(\"Error at key:\",key)\n",
    "        break"
   ]
  },
  {
   "cell_type": "code",
   "execution_count": 16,
   "metadata": {},
   "outputs": [
    {
     "data": {
      "text/plain": [
       "1323"
      ]
     },
     "execution_count": 16,
     "metadata": {},
     "output_type": "execute_result"
    }
   ],
   "source": [
    "len(vid_utts)"
   ]
  },
  {
   "cell_type": "code",
   "execution_count": 17,
   "metadata": {},
   "outputs": [
    {
     "data": {
      "text/plain": [
       "[1, 11, 10, 12, 13, 14, 15, 2, 3, 4, 5, 6, 7, 8, 9]"
      ]
     },
     "execution_count": 17,
     "metadata": {},
     "output_type": "execute_result"
    }
   ],
   "source": [
    "vid_utts['-00cp1iGiDw']"
   ]
  },
  {
   "cell_type": "code",
   "execution_count": 18,
   "metadata": {
    "collapsed": true
   },
   "outputs": [],
   "source": [
    "for key in vid_utts:\n",
    "    vid_utts[key] = sorted(vid_utts[key])"
   ]
  },
  {
   "cell_type": "code",
   "execution_count": 55,
   "metadata": {},
   "outputs": [
    {
     "name": "stdout",
     "output_type": "stream",
     "text": [
      "--dANj_01AU\n",
      "[0, 1, 2, 3, 4, 5, 6, 7, 8, 9, 10, 11, 12, 13, 14, 15, 16, 17, 18, 19, 20, 21]\n"
     ]
    }
   ],
   "source": [
    "# 00cp1iGiDw_10_11\n",
    "\n",
    "# for key in vid_utts.keys():\n",
    "#     if '_' in key:\n",
    "#         print(key)\n",
    "#         print(vid_utts[key])\n",
    "#         break"
   ]
  },
  {
   "cell_type": "code",
   "execution_count": 21,
   "metadata": {},
   "outputs": [],
   "source": [
    "combined_feats = defaultdict(list)\n",
    "\n",
    "for vid_id in vid_utts:\n",
    "    utt_idx = 0\n",
    "    key = vid_id\n",
    "    # To manage utts of format vid_1_2_3\n",
    "    while utt_idx < len(vid_utts[vid_id]):\n",
    "        utt_id = vid_utts[vid_id][utt_idx]\n",
    "        key = '{}_{}'.format(key, utt_id)\n",
    "        if key in audio_feats:\n",
    "            combined_feats[vid_id].append(audio_feats[key])\n",
    "            key = vid_id\n",
    "        utt_idx += 1"
   ]
  },
  {
   "cell_type": "code",
   "execution_count": 23,
   "metadata": {},
   "outputs": [
    {
     "data": {
      "text/plain": [
       "1323"
      ]
     },
     "execution_count": 23,
     "metadata": {},
     "output_type": "execute_result"
    }
   ],
   "source": [
    "len(combined_feats)"
   ]
  },
  {
   "cell_type": "code",
   "execution_count": 24,
   "metadata": {},
   "outputs": [],
   "source": [
    "import numpy as np\n",
    "\n",
    "concat_feats = {}\n",
    "\n",
    "for key in combined_feats:\n",
    "    concat = np.vstack(combined_feats[key])\n",
    "    concat_feats[key] = concat"
   ]
  },
  {
   "cell_type": "code",
   "execution_count": 25,
   "metadata": {},
   "outputs": [
    {
     "name": "stdout",
     "output_type": "stream",
     "text": [
      "1323\n"
     ]
    }
   ],
   "source": [
    "print(len(concat_feats))"
   ]
  },
  {
   "cell_type": "code",
   "execution_count": 26,
   "metadata": {},
   "outputs": [],
   "source": [
    "for key, val in concat_feats.items():\n",
    "    np.save('/home/alexandertchk/VSCode/multimodal/how2-dataset/audio_300/concat/{}.npy'.format(key), val)"
   ]
  },
  {
   "cell_type": "code",
   "execution_count": 4,
   "metadata": {},
   "outputs": [],
   "source": [
    "import os\n",
    "\n",
    "test_vid_ids = set()\n",
    "\n",
    "for fname in os.listdir('/home/aman_khullar/how2/video_features_300/'):\n",
    "    test_vid_ids.add(fname[:-4])"
   ]
  },
  {
   "cell_type": "code",
   "execution_count": 8,
   "metadata": {},
   "outputs": [
    {
     "data": {
      "text/plain": [
       "13445"
      ]
     },
     "execution_count": 8,
     "metadata": {},
     "output_type": "execute_result"
    }
   ],
   "source": [
    "len(test_vid_ids.intersection(vid_ids))"
   ]
  },
  {
   "cell_type": "code",
   "execution_count": 3,
   "metadata": {},
   "outputs": [
    {
     "data": {
      "text/plain": [
       "True"
      ]
     },
     "execution_count": 3,
     "metadata": {},
     "output_type": "execute_result"
    }
   ],
   "source": [
    "import os\n",
    "audio_ids = os.listdir(\"/home/alexandrtchk/VSCode/multimodal/data/audio_300_npy/\")\n",
    "video_ids = os.listdir(\"/home/alexandrtchk/VSCode/multimodal/data/video_300_npy\")\n",
    "audio_ids == video_ids"
   ]
  },
  {
   "cell_type": "code",
   "execution_count": 1,
   "metadata": {},
   "outputs": [
    {
     "name": "stderr",
     "output_type": "stream",
     "text": [
      "[nltk_data] Downloading package punkt to\n",
      "[nltk_data]     /home/alexandrtchk/nltk_data...\n",
      "[nltk_data]   Unzipping tokenizers/punkt.zip.\n"
     ]
    },
    {
     "data": {
      "text/plain": [
       "True"
      ]
     },
     "execution_count": 1,
     "metadata": {},
     "output_type": "execute_result"
    }
   ],
   "source": [
    "import nltk\n",
    "nltk.download('punkt')"
   ]
  },
  {
   "cell_type": "code",
   "execution_count": null,
   "metadata": {},
   "outputs": [],
   "source": []
  }
 ],
 "metadata": {
  "kernelspec": {
   "display_name": "venv",
   "language": "python",
   "name": "python3"
  },
  "language_info": {
   "codemirror_mode": {
    "name": "ipython",
    "version": 3
   },
   "file_extension": ".py",
   "mimetype": "text/x-python",
   "name": "python",
   "nbconvert_exporter": "python",
   "pygments_lexer": "ipython3",
   "version": "3.6.9"
  }
 },
 "nbformat": 4,
 "nbformat_minor": 2
}
